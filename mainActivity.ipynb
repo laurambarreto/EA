{
 "cells": [
  {
   "cell_type": "raw",
   "id": "848f6c81-8a58-4a22-8946-e98f067e6c9e",
   "metadata": {},
   "source": [
    "Exercício 2"
   ]
  },
  {
   "cell_type": "code",
   "execution_count": 12,
   "id": "4ba130b7-9501-494d-a368-23f2a4393827",
   "metadata": {},
   "outputs": [
    {
     "name": "stdout",
     "output_type": "stream",
     "text": [
      "(265339, 12)\n",
      "[[ 1.0000e+00 -1.7963e+00  9.3742e+00 ...  1.0000e+00  5.2542e+02\n",
      "   1.0000e+00]\n",
      " [ 1.0000e+00 -1.8696e+00  9.3000e+00 ...  1.0156e+00  5.4495e+02\n",
      "   1.0000e+00]\n",
      " [ 1.0000e+00 -1.7961e+00  9.3624e+00 ...  1.0156e+00  5.6448e+02\n",
      "   1.0000e+00]\n",
      " ...\n",
      " [ 5.0000e+00 -4.9463e-01  9.4428e+00 ...  7.1739e-02  1.0380e+06\n",
      "   1.0000e+00]\n",
      " [ 5.0000e+00 -4.7013e-01  9.4553e+00 ...  8.4783e-02  1.0381e+06\n",
      "   1.0000e+00]\n",
      " [ 5.0000e+00 -4.9427e-01  9.4431e+00 ...  7.8261e-02  1.0381e+06\n",
      "   1.0000e+00]]\n"
     ]
    }
   ],
   "source": [
    "import numpy as np\n",
    "import scipy as sp\n",
    "import pandas as pd\n",
    "\n",
    "def matriz (n):\n",
    "    array_individuo = []\n",
    "    for i in range(1,6):\n",
    "        df = pd.read_csv(f\"Part 0/part{n}dev{i}.csv\")\n",
    "        array_individuo.append (df.values)\n",
    "    matriz = np.vstack(array_individuo) \n",
    "    return matriz\n",
    "\n",
    "dados = matriz (0)\n",
    "print(dados.shape)\n",
    "print (dados)\n",
    "\n",
    "\n"
   ]
  },
  {
   "cell_type": "raw",
   "id": "65a786ed-24ec-4368-bbf5-893cf2d0c1ff",
   "metadata": {},
   "source": [
    "Exercício 3 - Análise e tratamento de outliers"
   ]
  },
  {
   "cell_type": "code",
   "execution_count": 14,
   "id": "244765dc-bd88-46b2-8747-afd27682b05b",
   "metadata": {},
   "outputs": [
    {
     "name": "stdout",
     "output_type": "stream",
     "text": [
      "[1.0, 8.0, 2.0, 9.0, 10.0, 3.0, 11.0, 12.0, 4.0, 13.0, 5.0, 14.0, 6.0, 15.0, 7.0, 16.0]\n",
      "16\n"
     ]
    }
   ],
   "source": [
    "import matplotlib.pyplot as plt\n",
    "\n",
    "atividades = []\n",
    "for n in dados:\n",
    "    valor = n[11]\n",
    "    if valor not in atividades:\n",
    "        atividades.append (valor)\n",
    "            \n",
    "print (atividades)\n",
    "num_atividades = len (atividades)\n",
    "print (num_atividades)\n",
    "\n",
    "\n",
    "contagem = np.zeros ([16,1])\n",
    "for i in range (len(dados)):\n",
    "    atividade = int(dados [i][11])\n",
    "    contagem [atividade - 1] += 1\n",
    "\n",
    "\n"
   ]
  },
  {
   "cell_type": "code",
   "execution_count": null,
   "id": "e36e35f6-cde7-42ca-b5cb-3f3f257d217a",
   "metadata": {},
   "outputs": [],
   "source": []
  },
  {
   "cell_type": "code",
   "execution_count": null,
   "id": "c09b9b36-67a7-4c8b-9660-c3c7924761ff",
   "metadata": {},
   "outputs": [],
   "source": []
  },
  {
   "cell_type": "code",
   "execution_count": null,
   "id": "aa24287c-e53e-4cef-bed2-96dd6b8a3f10",
   "metadata": {},
   "outputs": [],
   "source": []
  }
 ],
 "metadata": {
  "kernelspec": {
   "display_name": "Python [conda env:base] *",
   "language": "python",
   "name": "conda-base-py"
  },
  "language_info": {
   "codemirror_mode": {
    "name": "ipython",
    "version": 3
   },
   "file_extension": ".py",
   "mimetype": "text/x-python",
   "name": "python",
   "nbconvert_exporter": "python",
   "pygments_lexer": "ipython3",
   "version": "3.12.2"
  }
 },
 "nbformat": 4,
 "nbformat_minor": 5
}
